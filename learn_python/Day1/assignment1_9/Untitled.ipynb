{
 "cells": [
  {
   "cell_type": "code",
   "execution_count": 1,
   "metadata": {},
   "outputs": [
    {
     "name": "stdout",
     "output_type": "stream",
     "text": [
      "Question 2 works!\n",
      "GOT QUESTION 3!\n"
     ]
    }
   ],
   "source": [
    "x = 5\n",
    "y = 10\n",
    "if (len(\"Dog\") < x):\n",
    "    print(\"Question 2 works!\")\n",
    "else:\n",
    "    print(\"Still missing out\")\n",
    "\n",
    "# 3.\n",
    "x = 2\n",
    "y = 5\n",
    "if ((x**3 >=y) and (y**2 < 26)):\n",
    "    print(\"GOT QUESTION 3!\")\n",
    "else:\n",
    "    print(\"Oh good you can count\")"
   ]
  },
  {
   "cell_type": "code",
   "execution_count": 2,
   "metadata": {},
   "outputs": [
    {
     "name": "stdout",
     "output_type": "stream",
     "text": [
      "Still missing out\n",
      "GOT QUESTION 3!\n"
     ]
    }
   ],
   "source": [
    "x = 5\n",
    "y = 10\n",
    "if (len(\"Dogen\") < x):\n",
    "    print(\"Question 2 works!\")\n",
    "else:\n",
    "    print(\"Still missing out\")\n",
    "\n",
    "# 3.\n",
    "x = 2\n",
    "y = 5\n",
    "if ((x**3 >=y) and (y**2 < 26)):\n",
    "    print(\"GOT QUESTION 3!\")\n",
    "else:\n",
    "    print(\"Oh good you can count\")\n",
    "    "
   ]
  },
  {
   "cell_type": "code",
   "execution_count": 4,
   "metadata": {},
   "outputs": [
    {
     "name": "stdout",
     "output_type": "stream",
     "text": [
      "value of Y:8\n"
     ]
    }
   ],
   "source": [
    "x=2\n",
    "y=x**3\n",
    "print(\"value of Y:\"+ str(y))\n"
   ]
  },
  {
   "cell_type": "code",
   "execution_count": 5,
   "metadata": {},
   "outputs": [
    {
     "name": "stdout",
     "output_type": "stream",
     "text": [
      "GOT QUESTION 3!\n"
     ]
    }
   ],
   "source": [
    "x = 2\n",
    "y = 5\n",
    "if ((x**3 >=y) and (y**2 < 26)):\n",
    "    print(\"GOT QUESTION 3!\")\n",
    "else:\n",
    "    print(\"Oh good you can count\")"
   ]
  },
  {
   "cell_type": "code",
   "execution_count": 6,
   "metadata": {},
   "outputs": [
    {
     "name": "stdout",
     "output_type": "stream",
     "text": [
      "Dan is in group three\n"
     ]
    }
   ],
   "source": [
    "name = \"Dan\"\n",
    "group_one = [\"Greg\", \"Tony\", \"Susan\"]\n",
    "group_two = [\"Gerald\", \"Paul\", \"Ryder\"]\n",
    "group_three = [\"Carla\", \"Dan\", \"Jefferson\"]\n",
    "\n",
    "if (name in group_one):\n",
    "    print(name + \" is in the first group\")\n",
    "elif (name in group_two):\n",
    "    print(name + \" is in group two\")\n",
    "elif (name in group_three):\n",
    "    print(name + \" is in group three\")\n",
    "else:\n",
    "    print(name + \" does not have a group\")"
   ]
  },
  {
   "cell_type": "code",
   "execution_count": 7,
   "metadata": {},
   "outputs": [
    {
     "name": "stdout",
     "output_type": "stream",
     "text": [
      "Anand does not have a group\n"
     ]
    }
   ],
   "source": [
    "name = \"Anand\"\n",
    "group_one = [\"Greg\", \"Tony\", \"Susan\"]\n",
    "group_two = [\"Gerald\", \"Paul\", \"Ryder\"]\n",
    "group_three = [\"Carla\", \"Dan\", \"Jefferson\"]\n",
    "\n",
    "if (name in group_one):\n",
    "    print(name + \" is in the first group\")\n",
    "elif (name in group_two):\n",
    "    print(name + \" is in group two\")\n",
    "elif (name in group_three):\n",
    "    print(name + \" is in group three\")\n",
    "else:\n",
    "    print(name + \" does not have a group\")"
   ]
  },
  {
   "cell_type": "code",
   "execution_count": 8,
   "metadata": {},
   "outputs": [
    {
     "name": "stdout",
     "output_type": "stream",
     "text": [
      "Can ride bumper cars\n"
     ]
    }
   ],
   "source": [
    "height = 66\n",
    "age = 16\n",
    "adult_permission = True\n",
    "\n",
    "if ((height > 70) and (age >=18)):\n",
    "    print(\"Can ride all the roller coasters\")\n",
    "elif ((height > 65) and (age >=18)):\n",
    "    print(\"Can ride moderate roller coasters\")\n",
    "elif ((height > 60) and (age >= 18)):\n",
    "    print(\"Can ride light roller coasters\")\n",
    "elif (((height > 50) and (age >= 18)) or ((adult_permission) and (height > 50))):\n",
    "    print(\"Can ride bumper cars\")\n",
    "else:\n",
    "    print(\"Sitck to lazy river\")"
   ]
  },
  {
   "cell_type": "code",
   "execution_count": 10,
   "metadata": {},
   "outputs": [
    {
     "name": "stdout",
     "output_type": "stream",
     "text": [
      "Sitck to lazy river\n"
     ]
    }
   ],
   "source": [
    "height = 66\n",
    "age = 16\n",
    "adult_permission = False\n",
    "\n",
    "if ((height > 70) and (age >=18)):\n",
    "    print(\"Can ride all the roller coasters\")\n",
    "elif ((height > 65) and (age >=18)):\n",
    "    print(\"Can ride moderate roller coasters\")\n",
    "elif ((height > 60) and (age >= 18)):\n",
    "    print(\"Can ride light roller coasters\")\n",
    "elif (((height > 50) and (age >= 18)) or ((adult_permission) and (height > 50))):\n",
    "    print(\"Can ride bumper cars\")\n",
    "else:\n",
    "    print(\"Sitck to lazy river\")\n",
    "    "
   ]
  },
  {
   "cell_type": "code",
   "execution_count": 11,
   "metadata": {},
   "outputs": [
    {
     "name": "stdout",
     "output_type": "stream",
     "text": [
      "['Jacob', 25, 'Ahmed', 80]\n",
      "['Jacob', 25, 'Ahmed', 80, 'Matt']\n",
      "['Jacob', 25, 'Ahmed', 85, 'Matt']\n",
      "4\n",
      "5\n",
      "['Jacob', 25, 'Ahmed', 85]\n",
      "['Ahmed', 85]\n",
      "('Python', 100, 'VBA', False)\n"
     ]
    }
   ],
   "source": [
    "# Create a variable and set it as an List\n",
    "myList = [\"Jacob\", 25, \"Ahmed\", 80]\n",
    "print(myList)\n",
    "\n",
    "# Adds an element onto the end of a List\n",
    "myList.append(\"Matt\")\n",
    "print(myList)\n",
    "\n",
    "# Changes a specified element within an List at the given index\n",
    "myList[3] = 85\n",
    "print(myList)\n",
    "\n",
    "# Returns the index of the first object with a matching value\n",
    "print(myList.index(\"Matt\"))\n",
    "\n",
    "# Returns the length of the List\n",
    "print(len(myList))\n",
    "\n",
    "# Removes a specified object from an List\n",
    "myList.remove(\"Matt\")\n",
    "print(myList)\n",
    "\n",
    "# Removes the object at the index specified\n",
    "myList.pop(0)\n",
    "myList.pop(0)\n",
    "print(myList)\n",
    "\n",
    "# Creates a tuple, a sequence of immutable Python objects that cannot be changed\n",
    "myTuple = ('Python', 100, 'VBA', False)\n",
    "print(myTuple)"
   ]
  },
  {
   "cell_type": "code",
   "execution_count": 36,
   "metadata": {},
   "outputs": [
    {
     "name": "stdout",
     "output_type": "stream",
     "text": [
      "Good\n"
     ]
    }
   ],
   "source": [
    "myList = [\"Jacob\", 25, \"Ahmed\", 80]\n",
    "if len(myList) >= 4:\n",
    " print(\"Good\")\n",
    "else:\n",
    " print(\"Bad\")   "
   ]
  },
  {
   "cell_type": "code",
   "execution_count": 44,
   "metadata": {},
   "outputs": [
    {
     "name": "stdout",
     "output_type": "stream",
     "text": [
      "Let's Play Rock Paper Scissors!\n",
      "Make your Choice: (r)ock, (p)aper, (s)cissors? r\n",
      "You chose rock. The computer chose rock.\n",
      "A smashing tie!\n"
     ]
    }
   ],
   "source": [
    "import random\n",
    "\n",
    "# Print Title\n",
    "print(\"Let's Play Rock Paper Scissors!\")\n",
    "\n",
    "# Specify the three options\n",
    "options = [\"r\", \"p\", \"s\"]\n",
    "\n",
    "# Computer Selection\n",
    "computer_choice = random.choice(options)\n",
    "\n",
    "# User Selection\n",
    "user_choice = input(\"Make your Choice: (r)ock, (p)aper, (s)cissors? \")\n",
    "\n",
    "# Run Conditionals\n",
    "if (user_choice == \"r\" and computer_choice == \"p\"):\n",
    "  print(\"You chose rock. The computer chose paper.\")\n",
    "  print(\"Sorry. You lose.\")\n",
    "\n",
    "elif (user_choice == \"r\" and computer_choice == \"s\"):\n",
    "  print(\"You chose rock. The computer chose scissors.\")\n",
    "  print(\"Yay! You won.\")\n",
    "\n",
    "elif (user_choice == \"r\" and computer_choice == \"r\"):\n",
    "  print(\"You chose rock. The computer chose rock.\")\n",
    "  print(\"A smashing tie!\")\n",
    "\n",
    "elif (user_choice == \"p\" and computer_choice == \"p\"):\n",
    "  print(\"You chose paper. The computer chose paper.\")\n",
    "  print(\"A smashing tie!\")\n",
    "\n",
    "elif (user_choice == \"p\" and computer_choice == \"s\"):\n",
    "  print(\"You chose paper. The computer chose scissors.\")\n",
    "  print(\"Sorry. You lose.\")\n",
    "\n",
    "elif (user_choice == \"p\" and computer_choice == \"r\"):\n",
    "  print(\"You chose paper. The computer chose rock.\")\n",
    "  print(\"Yay! You won.\")\n",
    "\n",
    "elif (user_choice == \"s\" and computer_choice == \"p\"):\n",
    "  print(\"You chose scissors. The computer chose paper.\")\n",
    "  print(\"Yay! You won.\")\n",
    "\n",
    "elif (user_choice == \"s\" and computer_choice == \"s\"):\n",
    "  print(\"You chose scissors. The computer chose scissors.\")\n",
    "  print(\"A smashing tie!\")\n",
    "\n",
    "else:\n",
    "  print(\"You chose scissors. The computer chose rock.\")\n",
    "  print(\"Sorry. You lose.\")"
   ]
  },
  {
   "cell_type": "code",
   "execution_count": 16,
   "metadata": {
    "collapsed": true
   },
   "outputs": [],
   "source": [
    "\n"
   ]
  },
  {
   "cell_type": "code",
   "execution_count": null,
   "metadata": {
    "collapsed": true
   },
   "outputs": [],
   "source": []
  },
  {
   "cell_type": "code",
   "execution_count": null,
   "metadata": {
    "collapsed": true
   },
   "outputs": [],
   "source": []
  }
 ],
 "metadata": {
  "kernelspec": {
   "display_name": "Python 3",
   "language": "python",
   "name": "python3"
  },
  "language_info": {
   "codemirror_mode": {
    "name": "ipython",
    "version": 3
   },
   "file_extension": ".py",
   "mimetype": "text/x-python",
   "name": "python",
   "nbconvert_exporter": "python",
   "pygments_lexer": "ipython3",
   "version": "3.6.3"
  }
 },
 "nbformat": 4,
 "nbformat_minor": 2
}
