{
 "cells": [
  {
   "cell_type": "code",
   "execution_count": 1,
   "metadata": {},
   "outputs": [
    {
     "name": "stdout",
     "output_type": "stream",
     "text": [
      "0\n",
      "-----------------------------------------\n",
      "1\n",
      "-----------------------------------------\n",
      "2\n",
      "-----------------------------------------\n",
      "3\n",
      "-----------------------------------------\n",
      "4\n",
      "-----------------------------------------\n"
     ]
    }
   ],
   "source": [
    "for x in range(5):\n",
    "      print(x)\n",
    "\n",
    "      print(\"-----------------------------------------\")"
   ]
  },
  {
   "cell_type": "code",
   "execution_count": 2,
   "metadata": {},
   "outputs": [
    {
     "name": "stdout",
     "output_type": "stream",
     "text": [
      "2\n",
      "----------------------------------------\n",
      "3\n",
      "----------------------------------------\n",
      "4\n",
      "----------------------------------------\n",
      "5\n",
      "----------------------------------------\n",
      "6\n",
      "----------------------------------------\n"
     ]
    }
   ],
   "source": [
    "for x in range(2, 7): \n",
    "            print(x)\n",
    "\n",
    "            print(\"----------------------------------------\")"
   ]
  },
  {
   "cell_type": "code",
   "execution_count": 3,
   "metadata": {},
   "outputs": [
    {
     "ename": "IndentationError",
     "evalue": "unexpected indent (<ipython-input-3-8bed4fca3d22>, line 2)",
     "output_type": "error",
     "traceback": [
      "\u001b[1;36m  File \u001b[1;32m\"<ipython-input-3-8bed4fca3d22>\"\u001b[1;36m, line \u001b[1;32m2\u001b[0m\n\u001b[1;33m    for letters in word:\u001b[0m\n\u001b[1;37m    ^\u001b[0m\n\u001b[1;31mIndentationError\u001b[0m\u001b[1;31m:\u001b[0m unexpected indent\n"
     ]
    }
   ],
   "source": [
    "word = \"Peace\"\n",
    "            for letters in word:\n",
    "                  print(letters)\n",
    "\n",
    "                  print(\"----------------------------------------\")\n"
   ]
  },
  {
   "cell_type": "code",
   "execution_count": 4,
   "metadata": {},
   "outputs": [
    {
     "name": "stdout",
     "output_type": "stream",
     "text": [
      "P\n",
      "e\n",
      "a\n",
      "c\n",
      "e\n",
      "----------------------------------------\n"
     ]
    }
   ],
   "source": [
    "word = \"Peace\"\n",
    "for letters in word:\n",
    " print(letters)\n",
    "print(\"----------------------------------------\")\n"
   ]
  },
  {
   "cell_type": "code",
   "execution_count": 6,
   "metadata": {},
   "outputs": [
    {
     "name": "stdout",
     "output_type": "stream",
     "text": [
      "P\n",
      "----------------------------------------\n",
      "e\n",
      "----------------------------------------\n",
      "a\n",
      "----------------------------------------\n",
      "c\n",
      "----------------------------------------\n",
      "e\n",
      "----------------------------------------\n"
     ]
    }
   ],
   "source": [
    "word = \"Peace\"\n",
    "for letters in word:\n",
    " print(letters)\n",
    " print(\"----------------------------------------\")\n"
   ]
  },
  {
   "cell_type": "code",
   "execution_count": 7,
   "metadata": {},
   "outputs": [
    {
     "name": "stdout",
     "output_type": "stream",
     "text": [
      "cow\n",
      "--------------------\n",
      "dog\n",
      "--------------------\n",
      "bee\n",
      "--------------------\n",
      "zebra\n",
      "--------------------\n"
     ]
    }
   ],
   "source": [
    "zoo = [\"cow\", \"dog\", \"bee\", \"zebra\"]\n",
    "for animal in zoo:\n",
    "  print(animal) \n",
    "  print(\"--------------------\")"
   ]
  },
  {
   "cell_type": "code",
   "execution_count": 8,
   "metadata": {},
   "outputs": [
    {
     "name": "stdout",
     "output_type": "stream",
     "text": [
      "Hi!\n",
      "To run again. Enter 'y'y\n",
      "Hi!\n",
      "To run again. Enter 'y'y\n",
      "Hi!\n",
      "To run again. Enter 'y'y\n",
      "Hi!\n",
      "To run again. Enter 'y'y\n",
      "Hi!\n",
      "To run again. Enter 'y'y\n",
      "Hi!\n",
      "To run again. Enter 'y'y\n",
      "Hi!\n",
      "To run again. Enter 'y'y\n",
      "Hi!\n",
      "To run again. Enter 'y'y\n",
      "Hi!\n",
      "To run again. Enter 'y'n\n"
     ]
    }
   ],
   "source": [
    "run = \"y\"\n",
    "\n",
    "while run == \"y\":\n",
    "  print(\"Hi!\")\n",
    "  run = input(\"To run again. Enter 'y'\" )"
   ]
  },
  {
   "cell_type": "code",
   "execution_count": null,
   "metadata": {
    "collapsed": true
   },
   "outputs": [],
   "source": []
  }
 ],
 "metadata": {
  "kernelspec": {
   "display_name": "Python 3",
   "language": "python",
   "name": "python3"
  },
  "language_info": {
   "codemirror_mode": {
    "name": "ipython",
    "version": 3
   },
   "file_extension": ".py",
   "mimetype": "text/x-python",
   "name": "python",
   "nbconvert_exporter": "python",
   "pygments_lexer": "ipython3",
   "version": "3.6.3"
  }
 },
 "nbformat": 4,
 "nbformat_minor": 2
}
